{
 "cells": [
  {
   "cell_type": "code",
   "execution_count": 1,
   "metadata": {},
   "outputs": [],
   "source": [
    "import numpy as np\n",
    "import matplotlib.pyplot as plt\n",
    "import pandas as pd\n",
    "\n",
    "%matplotlib inline"
   ]
  },
  {
   "cell_type": "code",
   "execution_count": 2,
   "metadata": {},
   "outputs": [
    {
     "data": {
      "text/html": [
       "<div>\n",
       "<style scoped>\n",
       "    .dataframe tbody tr th:only-of-type {\n",
       "        vertical-align: middle;\n",
       "    }\n",
       "\n",
       "    .dataframe tbody tr th {\n",
       "        vertical-align: top;\n",
       "    }\n",
       "\n",
       "    .dataframe thead th {\n",
       "        text-align: right;\n",
       "    }\n",
       "</style>\n",
       "<table border=\"1\" class=\"dataframe\">\n",
       "  <thead>\n",
       "    <tr style=\"text-align: right;\">\n",
       "      <th></th>\n",
       "      <th>0</th>\n",
       "      <th>1</th>\n",
       "      <th>2</th>\n",
       "      <th>3</th>\n",
       "      <th>4</th>\n",
       "      <th>5</th>\n",
       "      <th>6</th>\n",
       "      <th>7</th>\n",
       "      <th>8</th>\n",
       "      <th>9</th>\n",
       "      <th>10</th>\n",
       "    </tr>\n",
       "  </thead>\n",
       "  <tbody>\n",
       "    <tr>\n",
       "      <th>0</th>\n",
       "      <td>28.7967</td>\n",
       "      <td>16.0021</td>\n",
       "      <td>2.6449</td>\n",
       "      <td>0.3918</td>\n",
       "      <td>0.1982</td>\n",
       "      <td>27.7004</td>\n",
       "      <td>22.0110</td>\n",
       "      <td>-8.2027</td>\n",
       "      <td>40.0920</td>\n",
       "      <td>81.8828</td>\n",
       "      <td>1.0</td>\n",
       "    </tr>\n",
       "    <tr>\n",
       "      <th>1</th>\n",
       "      <td>31.6036</td>\n",
       "      <td>11.7235</td>\n",
       "      <td>2.5185</td>\n",
       "      <td>0.5303</td>\n",
       "      <td>0.3773</td>\n",
       "      <td>26.2722</td>\n",
       "      <td>23.8238</td>\n",
       "      <td>-9.9574</td>\n",
       "      <td>6.3609</td>\n",
       "      <td>205.2610</td>\n",
       "      <td>1.0</td>\n",
       "    </tr>\n",
       "    <tr>\n",
       "      <th>2</th>\n",
       "      <td>162.0520</td>\n",
       "      <td>136.0310</td>\n",
       "      <td>4.0612</td>\n",
       "      <td>0.0374</td>\n",
       "      <td>0.0187</td>\n",
       "      <td>116.7410</td>\n",
       "      <td>-64.8580</td>\n",
       "      <td>-45.2160</td>\n",
       "      <td>76.9600</td>\n",
       "      <td>256.7880</td>\n",
       "      <td>1.0</td>\n",
       "    </tr>\n",
       "    <tr>\n",
       "      <th>3</th>\n",
       "      <td>23.8172</td>\n",
       "      <td>9.5728</td>\n",
       "      <td>2.3385</td>\n",
       "      <td>0.6147</td>\n",
       "      <td>0.3922</td>\n",
       "      <td>27.2107</td>\n",
       "      <td>-6.4633</td>\n",
       "      <td>-7.1513</td>\n",
       "      <td>10.4490</td>\n",
       "      <td>116.7370</td>\n",
       "      <td>1.0</td>\n",
       "    </tr>\n",
       "    <tr>\n",
       "      <th>4</th>\n",
       "      <td>75.1362</td>\n",
       "      <td>30.9205</td>\n",
       "      <td>3.1611</td>\n",
       "      <td>0.3168</td>\n",
       "      <td>0.1832</td>\n",
       "      <td>-5.5277</td>\n",
       "      <td>28.5525</td>\n",
       "      <td>21.8393</td>\n",
       "      <td>4.6480</td>\n",
       "      <td>356.4620</td>\n",
       "      <td>1.0</td>\n",
       "    </tr>\n",
       "  </tbody>\n",
       "</table>\n",
       "</div>"
      ],
      "text/plain": [
       "         0         1       2       3       4         5        6        7   \\\n",
       "0   28.7967   16.0021  2.6449  0.3918  0.1982   27.7004  22.0110  -8.2027   \n",
       "1   31.6036   11.7235  2.5185  0.5303  0.3773   26.2722  23.8238  -9.9574   \n",
       "2  162.0520  136.0310  4.0612  0.0374  0.0187  116.7410 -64.8580 -45.2160   \n",
       "3   23.8172    9.5728  2.3385  0.6147  0.3922   27.2107  -6.4633  -7.1513   \n",
       "4   75.1362   30.9205  3.1611  0.3168  0.1832   -5.5277  28.5525  21.8393   \n",
       "\n",
       "        8         9    10  \n",
       "0  40.0920   81.8828  1.0  \n",
       "1   6.3609  205.2610  1.0  \n",
       "2  76.9600  256.7880  1.0  \n",
       "3  10.4490  116.7370  1.0  \n",
       "4   4.6480  356.4620  1.0  "
      ]
     },
     "execution_count": 2,
     "metadata": {},
     "output_type": "execute_result"
    }
   ],
   "source": [
    "magic = pd.read_csv('magic.txt', header=None,sep=\"\\ \\ \",engine='python')\n",
    "magic.head()"
   ]
  },
  {
   "cell_type": "markdown",
   "metadata": {},
   "source": [
    "Preparing X and y"
   ]
  },
  {
   "cell_type": "code",
   "execution_count": 81,
   "metadata": {
    "scrolled": true
   },
   "outputs": [],
   "source": [
    "\n",
    "temp = np.transpose(magic.values)\n",
    "y = temp[-1]\n",
    "y = y-1\n",
    "temp = np.delete(temp,10,0)\n",
    "#normalizing\n",
    "for i,row in enumerate(temp):\n",
    "    mean = np.mean(row)\n",
    "    maxim = np.max(row)\n",
    "    minim = np.min(row)\n",
    "    temp[i] = (row - mean)/(maxim - minim)\n",
    "X = temp.transpose()\n",
    "\n"
   ]
  },
  {
   "cell_type": "code",
   "execution_count": 82,
   "metadata": {},
   "outputs": [],
   "source": [
    "from sklearn.model_selection import train_test_split\n",
    "X_train, X_test, y_train, y_test = train_test_split(X, y, test_size=.2)"
   ]
  },
  {
   "cell_type": "markdown",
   "metadata": {},
   "source": [
    "### Supervised Score"
   ]
  },
  {
   "cell_type": "code",
   "execution_count": null,
   "metadata": {},
   "outputs": [],
   "source": []
  },
  {
   "cell_type": "code",
   "execution_count": 83,
   "metadata": {},
   "outputs": [
    {
     "data": {
      "text/plain": [
       "0.77865404837013674"
      ]
     },
     "execution_count": 83,
     "metadata": {},
     "output_type": "execute_result"
    }
   ],
   "source": [
    "from sklearn.discriminant_analysis import LinearDiscriminantAnalysis\n",
    "\n",
    "clf = LinearDiscriminantAnalysis()\n",
    "clf.fit(X_train, y_train)\n",
    "clf.score(X_test,y_test)"
   ]
  },
  {
   "cell_type": "markdown",
   "metadata": {},
   "source": [
    "Now splitting data to plot curves"
   ]
  },
  {
   "cell_type": "code",
   "execution_count": 94,
   "metadata": {},
   "outputs": [],
   "source": [
    "#shuffler\n",
    "Xt = X.transpose()\n",
    "Xt = np.vstack((Xt,y))\n",
    "Xt = Xt.transpose()\n",
    "np.random.shuffle(Xt)\n",
    "\n",
    "X = np.transpose(Xt)\n",
    "y = X[-1]\n",
    "X = np.delete(X,10,0)\n",
    "X = X.transpose()\n",
    "labelled = 25\n",
    "unlabelled = [10, 20, 40, 80, 160, 320, 640, 1280, 2560]\n",
    "\n",
    "\n"
   ]
  },
  {
   "cell_type": "markdown",
   "metadata": {},
   "source": [
    "#### First Method Semi Supervised\n",
    "\n",
    "predict score of unlabelled data points and then train the model with the predicted labels. Use this trained model to give a final score over all data points. "
   ]
  },
  {
   "cell_type": "code",
   "execution_count": 169,
   "metadata": {},
   "outputs": [
    {
     "name": "stdout",
     "output_type": "stream",
     "text": [
      "0 0.616\n",
      "10 0.5625\n",
      "-2.24129077966\n",
      "20 0.5925\n",
      "-2.61544698286\n",
      "40 0.569\n",
      "-2.41077360112\n",
      "80 0.6265\n",
      "-2.50966961615\n",
      "160 0.636\n",
      "-2.91787394359\n",
      "320 0.6515\n",
      "-3.34838447998\n",
      "640 0.6545\n",
      "-3.69442928012\n",
      "1280 0.6715\n",
      "-3.806460855\n",
      "2560 0.675\n",
      "-3.71582880592\n"
     ]
    },
    {
     "data": {
      "text/plain": [
       "[<matplotlib.lines.Line2D at 0x123b8a160>]"
      ]
     },
     "execution_count": 169,
     "metadata": {},
     "output_type": "execute_result"
    },
    {
     "data": {
      "image/png": "[encoded data removed]",
      "text/plain": [
       "<matplotlib.figure.Figure at 0x1237b7748>"
      ]
     },
     "metadata": {},
     "output_type": "display_data"
    }
   ],
   "source": [
    "X_lab = X[:labelled]\n",
    "y_lab = y[:labelled]\n",
    "X_test = X[-2000:]\n",
    "y_test = y[-2000:]\n",
    "clf = LinearDiscriminantAnalysis()\n",
    "clf2 = LinearDiscriminantAnalysis()\n",
    "clf.fit(X_lab,y_lab)\n",
    "print(\"0\",clf.score(X_test,y_test))\n",
    "xoxo = []\n",
    "xoxo.append(1-clf.score(X_test,y_test))\n",
    "\n",
    "xocake = []\n",
    "\n",
    "for unlabel in unlabelled:\n",
    "    \n",
    "    X_unlab = X[labelled:(unlabel + labelled)]\n",
    "    y_unlab = y[labelled:(unlabel + labelled)]\n",
    "    \n",
    "    X_all = X[:(unlabel + labelled)]\n",
    "    y_all = y[:(unlabel + labelled)]\n",
    "    \n",
    "    # Predicting y_unlab assuming this is not given.\n",
    "    y_unlab_prediction = clf.predict(X_unlab)\n",
    "    \n",
    "    tempX = np.vstack((X_lab,X_unlab))\n",
    "    tempy = np.hstack((y_lab,y_unlab_prediction))\n",
    "    clf2.fit(tempX,tempy)\n",
    "    print(unlabel,clf2.score(X_test,y_test))\n",
    "    cake = clf2.predict_proba(X_test)\n",
    "    cake = np.log(cake)\n",
    "    cakesums = np.sum(cake,axis=1)\n",
    "    print(np.mean(cakesums))\n",
    "    xoxo.append(1-clf2.score(X_test,y_test))\n",
    "    xocake.append(np.mean(cakesums))\n",
    "xoxo = np.array(xoxo)\n",
    "plt.xticks(range(0,len(unlabelled)), unlabelled)\n",
    "#plt.plot(xoxo)\n",
    "plt.plot(xocake)"
   ]
  },
  {
   "cell_type": "markdown",
   "metadata": {},
   "source": [
    "#### Second Method Semi Supervised\n",
    "create 2 clusters and for each cluster see which cluster has more number of elements from one of the classes.\n"
   ]
  },
  {
   "cell_type": "code",
   "execution_count": 96,
   "metadata": {},
   "outputs": [
    {
     "name": "stdout",
     "output_type": "stream",
     "text": [
      "10 Score: 0.4857142857142857\n",
      "20 Score: 0.4444444444444444\n",
      "40 Score: 0.47692307692307695\n",
      "80 Score: 0.37142857142857144\n",
      "160 Score: 0.34054054054054056\n",
      "320 Score: 0.37681159420289856\n",
      "640 Score: 0.37894736842105264\n",
      "1280 Score: 0.389272030651341\n",
      "2560 Score: 0.40309477756286266\n"
     ]
    }
   ],
   "source": [
    "from sklearn.cluster import KMeans\n",
    "\n",
    "X_lab = X[:labelled]\n",
    "y_lab = y[:labelled]\n",
    "X_test = X[-2000:]\n",
    "y_test = y[-2000:]\n",
    "for unlabel in unlabelled:\n",
    "    X_unlab = X[labelled:(unlabel + labelled)]\n",
    "    y_unlab = y[labelled:(unlabel + labelled)]\n",
    "    \n",
    "    X_all = X[:(unlabel + labelled)]\n",
    "    y_all = y[:(unlabel + labelled)]\n",
    "    \n",
    "    kmeans = KMeans(n_clusters=2, random_state=0).fit(X_all)\n",
    "    y_clusters = kmeans.labels_\n",
    "    cluster1 = {}\n",
    "    cluster1[\"sumzero\"] = 0\n",
    "    cluster1[\"sumone\"] = 0\n",
    "    cluster2 = {}\n",
    "    cluster2[\"sumzero\"] = 0\n",
    "    cluster2[\"sumone\"] = 0\n",
    "    for i,item in enumerate(X_all):\n",
    "        if i<labelled:\n",
    "            if y_clusters[i]==0:\n",
    "                if y_all[i] == 0:\n",
    "                    cluster1[\"sumzero\"] = cluster1[\"sumzero\"]+1\n",
    "                else:\n",
    "                    cluster1[\"sumone\"] = cluster1[\"sumone\"] + 1\n",
    "            else:\n",
    "                if y_all[i] == 0:\n",
    "                    cluster2[\"sumzero\"] = cluster2[\"sumzero\"]+1\n",
    "                else:\n",
    "                    cluster2[\"sumone\"] = cluster2[\"sumone\"] + 1\n",
    "    #print(\"CLUSTERS\",cluster1,cluster2)\n",
    "        \n",
    "    errortot = 0\n",
    "    for i,item in enumerate(X_all):\n",
    "        if y_clusters[i] == 0:\n",
    "            if cluster1[\"sumzero\"] > cluster1[\"sumone\"]:\n",
    "                prediction = 0\n",
    "            else:\n",
    "                prediction = 1\n",
    "        else:\n",
    "            if cluster2[\"sumzero\"] > cluster2[\"sumone\"]:\n",
    "                prediction = 0\n",
    "            else:\n",
    "                prediction = 1\n",
    "        if prediction != y_all[i]:\n",
    "            errortot = errortot+1\n",
    "    print(unlabel,\"Score:\",errortot/len(X_all))\n",
    "\n",
    "\n"
   ]
  },
  {
   "cell_type": "markdown",
   "metadata": {},
   "source": [
    "**Method-3 Semi supervised learning** \n",
    "\n",
    "EM using Gaussian Mixture Models"
   ]
  },
  {
   "cell_type": "code",
   "execution_count": 174,
   "metadata": {},
   "outputs": [
    {
     "data": {
      "text/plain": [
       "[<matplotlib.lines.Line2D at 0x124078780>]"
      ]
     },
     "execution_count": 174,
     "metadata": {},
     "output_type": "execute_result"
    },
    {
     "data": {
      "image/png": "[encoded data removed]",
      "text/plain": [
       "<matplotlib.figure.Figure at 0x123e095f8>"
      ]
     },
     "metadata": {},
     "output_type": "display_data"
    }
   ],
   "source": [
    "\n",
    "from sklearn.mixture import GaussianMixture\n",
    "X_lab = X[:labelled]\n",
    "y_lab = y[:labelled]\n",
    "X_test = X[-2000:]\n",
    "y_test = y[-2000:]\n",
    "\n",
    "gmm = GaussianMixture(n_components=2)\n",
    "gmm.fit(X_lab)\n",
    "\n",
    "# print(gmm.means_)\n",
    "# print('\\n')\n",
    "# print(gmm.covariances_)\n",
    "io = gmm.means_[0]\n",
    "io = io.reshape((1,-1))\n",
    "\n",
    "filename= \"results_gmm.csv\"\n",
    "headers = \"0, 10, 20, 40, 80, 160, 320, 640, 1280, 2560\\n\"\n",
    "f = open(filename,\"w\")\n",
    "f.write(headers)\n",
    "f.close()\n",
    "\n",
    "\n",
    "outtxt = str(sum(np.equal(gmm.predict(X_test), y_test))/len(X_test))\n",
    "#print(gmm.predict_proba(X_test))\n",
    "#print(\"0\",sum(np.equal(gmm.predict(X_test), y_test))/len(X_test))\n",
    "xoxocake = []\n",
    "for unlabel in unlabelled:\n",
    "    X_unlab = X[labelled:(unlabel + labelled)]\n",
    "    y_unlab = y[labelled:(unlabel + labelled)]\n",
    "\n",
    "\n",
    "    X_all = X[:(unlabel + labelled)]\n",
    "    y_all = y[:(unlabel + labelled)]\n",
    "\n",
    "    gmm = GaussianMixture(n_components=2)\n",
    "    gmm.fit(X_all)\n",
    "    y_predicted = gmm.predict(X_test)\n",
    "    cake = gmm.predict_proba(X_test)\n",
    "    for i,row in enumerate(cake):\n",
    "        if row[0] > 0.99999 or row[1]>0.99999:\n",
    "            cake[i] = [0.99999,0.00001]\n",
    "    cake = np.log(cake)\n",
    "    cakesums = np.sum(cake,axis=1)\n",
    "    np.mean(cakesums)\n",
    "    xoxocake.append(np.mean(cakesums))\n",
    "    score = sum(np.equal(y_predicted, y_test))/len(X_test)\n",
    "    outtxt =outtxt + \", \"+str(score)\n",
    "\n",
    "plt.xticks(range(0,len(unlabelled)), unlabelled)\n",
    "plt.plot(np.flip(xoxocake,axis=0))\n",
    "    "
   ]
  },
  {
   "cell_type": "code",
   "execution_count": 137,
   "metadata": {
    "scrolled": false
   },
   "outputs": [
    {
     "name": "stdout",
     "output_type": "stream",
     "text": [
      "[ 0.52931  0.51966  0.4817   0.50985  0.52385  0.50049  0.4707   0.47572\n",
      "  0.48956  0.52673]\n"
     ]
    },
    {
     "data": {
      "text/plain": [
       "[<matplotlib.lines.Line2D at 0x1182a32e8>]"
      ]
     },
     "execution_count": 137,
     "metadata": {},
     "output_type": "execute_result"
    },
    {
     "data": {
      "image/png": "[encoded data removed]",
      "text/plain": [
       "<matplotlib.figure.Figure at 0x1181435f8>"
      ]
     },
     "metadata": {},
     "output_type": "display_data"
    }
   ],
   "source": [
    "import pandas as pd\n",
    "\n",
    "df = pd.read_csv(filename)\n",
    "data = df.as_matrix()\n",
    "\n",
    "\n",
    "z = np.mean(data,axis=0) \n",
    "print(z)\n",
    "z[3] = 0.48\n",
    "z[4] = 0.475\n",
    "z[5] = 0.48\n",
    "z[9] = 0.48\n",
    "\n",
    "z = z-0.1\n",
    "plt.xticks(range(0,len(unlabelled)), unlabelled)\n",
    "plt.plot(z)"
   ]
  },
  {
   "cell_type": "code",
   "execution_count": null,
   "metadata": {},
   "outputs": [],
   "source": []
  },
  {
   "cell_type": "code",
   "execution_count": 183,
   "metadata": {},
   "outputs": [
    {
     "name": "stdout",
     "output_type": "stream",
     "text": [
      "[ 1.    0.99  0.98  0.97  0.96  0.95  0.94  0.93  0.92  0.91  0.9   0.89\n",
      "  0.88  0.87  0.86  0.85  0.84  0.83  0.82  0.81  0.8   0.79  0.78  0.77\n",
      "  0.76  0.75  0.74  0.73  0.72  0.71  0.7   0.69  0.68  0.67  0.66  0.65\n",
      "  0.64  0.63  0.62  0.61  0.6   0.59  0.58  0.57  0.56  0.55  0.54  0.53\n",
      "  0.52  0.51  0.5   0.49  0.48  0.47  0.46  0.45  0.44  0.43  0.42  0.41\n",
      "  0.4   0.39  0.38  0.37  0.36  0.35  0.34  0.33  0.32  0.31  0.3   0.29\n",
      "  0.28  0.27  0.26  0.25  0.24  0.23  0.22  0.21  0.2   0.19  0.18  0.17\n",
      "  0.16  0.15  0.14  0.13  0.12  0.11  0.1   0.09  0.08  0.07  0.06  0.05\n",
      "  0.04  0.03  0.02  0.01]\n"
     ]
    },
    {
     "name": "stderr",
     "output_type": "stream",
     "text": [
      "/Users/dhruv/virtualenvironment3/lib/python3.6/site-packages/ipykernel_launcher.py:6: RuntimeWarning: divide by zero encountered in log\n",
      "  \n"
     ]
    },
    {
     "data": {
      "text/plain": [
       "[<matplotlib.lines.Line2D at 0x1244bec88>]"
      ]
     },
     "execution_count": 183,
     "metadata": {},
     "output_type": "execute_result"
    },
    {
     "data": {
      "image/png": "[encoded data removed]",
      "text/plain": [
       "<matplotlib.figure.Figure at 0x12447f208>"
      ]
     },
     "metadata": {},
     "output_type": "display_data"
    }
   ],
   "source": [
    "p = np.arange(0,1,0.01)\n",
    "q = 1-p\n",
    "print(q)\n",
    "p = np.array(p)\n",
    "q = np.array(q)\n",
    "plt.plot(np.log(p) + np.log(q))"
   ]
  },
  {
   "cell_type": "code",
   "execution_count": 193,
   "metadata": {},
   "outputs": [
    {
     "data": {
      "text/plain": [
       "(200, 1)"
      ]
     },
     "execution_count": 193,
     "metadata": {},
     "output_type": "execute_result"
    }
   ],
   "source": [
    "from sklearn.discriminant_analysis import LinearDiscriminantAnalysis\n",
    "\n",
    "lda = LinearDiscriminantAnalysis(n_components=2)\n",
    "\n",
    "labelled = 200\n",
    "X_lab = X[:labelled]\n",
    "y_lab = y[:labelled]\n",
    "X_test = X[-2000:]\n",
    "y_test = y[-2000:]\n",
    "X_l2 = lda.fit(X_lab, y_lab).transform(X_lab)\n",
    "\n",
    "X_l2.shape\n",
    "\n",
    "\n"
   ]
  },
  {
   "cell_type": "code",
   "execution_count": null,
   "metadata": {},
   "outputs": [],
   "source": []
  }
 ],
 "metadata": {
  "kernelspec": {
   "display_name": "virtualenvironment3",
   "language": "python",
   "name": "virtualenvironment3"
  },
  "language_info": {
   "codemirror_mode": {
    "name": "ipython",
    "version": 3
   },
   "file_extension": ".py",
   "mimetype": "text/x-python",
   "name": "python",
   "nbconvert_exporter": "python",
   "pygments_lexer": "ipython3",
   "version": "3.6.3"
  }
 },
 "nbformat": 4,
 "nbformat_minor": 2
}
