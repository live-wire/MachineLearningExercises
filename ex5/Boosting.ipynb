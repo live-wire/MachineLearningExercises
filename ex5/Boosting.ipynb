{
 "cells": [
  {
   "cell_type": "markdown",
   "metadata": {},
   "source": [
    "## Computational Learing Theory: Boosting"
   ]
  },
  {
   "cell_type": "code",
   "execution_count": 10,
   "metadata": {},
   "outputs": [],
   "source": [
    "%matplotlib inline\n",
    "from math import pi,exp,sqrt\n",
    "import pandas as pd\n",
    "import numpy as np\n",
    "import matplotlib as mpl\n",
    "import matplotlib.pyplot as plt\n",
    "from PIL import Image\n",
    "import random\n",
    "import sys\n",
    "import re"
   ]
  },
  {
   "cell_type": "markdown",
   "metadata": {},
   "source": [
    "### Data Generation"
   ]
  },
  {
   "cell_type": "code",
   "execution_count": 95,
   "metadata": {},
   "outputs": [],
   "source": [
    "\n",
    "def generate_2d_data(n=100, mu = [0,0], cov = np.identity(2), label=0):\n",
    "    s = np.random.multivariate_normal(mu, cov, n)\n",
    "    label_arr = []\n",
    "    i=0\n",
    "    while i<n:\n",
    "        label_arr.append(label)\n",
    "        i = i+1\n",
    "    label_arr = np.asarray(label_arr).reshape(-1,1)\n",
    "    x = np.concatenate((s,label_arr),axis=1)\n",
    "    return pd.DataFrame(x)\n",
    "\n"
   ]
  },
  {
   "cell_type": "markdown",
   "metadata": {},
   "source": [
    "## Decision Stump (Weak Learner)"
   ]
  },
  {
   "cell_type": "code",
   "execution_count": 300,
   "metadata": {},
   "outputs": [],
   "source": [
    "\n",
    "\n",
    "\n",
    "def decision_stump(data,weighted = False,weights={'0':1,'1':1},debug=False):\n",
    "    all_columns = list(data)\n",
    "    last_column = all_columns[-1]\n",
    "    features = all_columns[:-1]\n",
    "    \n",
    "    min_feature = 0\n",
    "    min_error = sys.maxsize\n",
    "    min_value = sys.maxsize\n",
    "    lt = True #less than assigned to 0\n",
    "    for item in features:\n",
    "        for index, row in data.iterrows():\n",
    "            pr_labels = check_feature(item, row[item], data, debug)\n",
    "            if weighted:\n",
    "                error_rate_0 = get_weighted_errors(data[last_column].values, pr_labels[0][0],weights)\n",
    "            else:\n",
    "                error_rate_0 = get_error_percent(data[last_column].values, pr_labels[0][0])/100\n",
    "            #error_rate_0 = pr_labels[0][1]/len(pr_labels[0][0])\n",
    "            if error_rate_0 <= min_error:\n",
    "                min_error = error_rate_0\n",
    "                min_feature = item\n",
    "                min_value = row[item]\n",
    "                lt = True\n",
    "            if weighted:\n",
    "                error_rate_1 = get_weighted_errors(data[last_column].values, pr_labels[1][0],weights)\n",
    "            else:\n",
    "                error_rate_1 = get_error_percent(data[last_column].values, pr_labels[1][0])/100\n",
    "            #error_rate_1 = pr_labels[1][1]/len(pr_labels[1][0])\n",
    "            if error_rate_1 <= min_error:\n",
    "                min_error = error_rate_1\n",
    "                min_feature = item\n",
    "                min_value = row[item]\n",
    "                lt = False\n",
    "        if debug:\n",
    "            print('Feature',item,'min_error',min_error,'min_feature',min_feature)\n",
    "    return (min_error,min_feature,min_value,lt)\n",
    "\n",
    "def get_error_percent(actual_labels,predicted_labels,debug=False):  \n",
    "    error_points = 0\n",
    "    for i,item in enumerate(actual_labels):\n",
    "        if str(int(actual_labels[i])) != str(int(predicted_labels[i])):\n",
    "            error_points = error_points + 1\n",
    "    error_percent = (error_points/len(actual_labels))*100\n",
    "    if debug:\n",
    "        print(\"Error :\",error_percent,\"%\")\n",
    "    return error_percent\n",
    "\n",
    "def get_weighted_errors(actual_labels,predicted_labels,weights={'0':1,'1':1},debug=False):\n",
    "    error_points = 0\n",
    "    for i,item in enumerate(actual_labels):\n",
    "        if str(int(actual_labels[i])) != str(int(predicted_labels[i])):\n",
    "            error_points = error_points + weights[str(int(actual_labels[i]))]\n",
    "    if debug:\n",
    "        print(\"Weights:\",weights,\"\\nWeighted Errors :\",error_points)\n",
    "    return error_points\n",
    "\n",
    "def check_feature(feature,value,data, debug=False):\n",
    "    predicted_labels = []\n",
    "    predicted_labels_errors = 0\n",
    "    predicted_labels_reverse = []\n",
    "    predicted_labels_reverse_errors = 0\n",
    "    for index, row in data.iterrows():\n",
    "        if (int(row[feature]) <= int(value)):\n",
    "            predicted_labels_reverse.append(1)\n",
    "            predicted_labels.append(0)\n",
    "        else:\n",
    "            predicted_labels_reverse.append(0)\n",
    "            predicted_labels.append(1)\n",
    "        if str(int(predicted_labels[-1])) != str(int(row[list(data)[-1]])):\n",
    "            predicted_labels_errors = predicted_labels_errors + 1\n",
    "            if debug:\n",
    "                pass\n",
    "                #print(row[feature],value)\n",
    "                #print(predicted_labels[-1],row[list(data)[-1]])\n",
    "        if str(predicted_labels_reverse[-1]) != str(row[list(data)[-1]]):\n",
    "            predicted_labels_reverse_errors = predicted_labels_reverse_errors + 1\n",
    "            if debug:\n",
    "                pass\n",
    "                #print(row[feature],value)\n",
    "                #print(predicted_labels_reverse[-1],row[list(data)[-1]])\n",
    "    ret = (predicted_labels,predicted_labels_errors),(predicted_labels_reverse,predicted_labels_reverse_errors)\n",
    "    return ret\n",
    "\n",
    "def calculate_decision(data,weighted = False, weights={'0':1,'1':1}, debug=False):\n",
    "    decision_local = decision_stump(data, weighted ,weights , debug)\n",
    "    if weighted:\n",
    "        print(\"ERROR: \",decision_local[0],\" points\",\"\\nFEATURE: \",decision_local[1])\n",
    "    else:\n",
    "        print(\"ERROR: \",decision_local[0]*100,\"%\",\"\\nFEATURE: \",decision_local[1])\n",
    "    print(\"VALUE: \",decision_local[2],\"\\nLESS THAN LABELLED 0: \",decision_local[3])\n",
    "    return decision_local\n"
   ]
  },
  {
   "cell_type": "markdown",
   "metadata": {},
   "source": [
    "### Generating New Data and calculating optimal decisions stump"
   ]
  },
  {
   "cell_type": "code",
   "execution_count": 332,
   "metadata": {},
   "outputs": [
    {
     "name": "stdout",
     "output_type": "stream",
     "text": [
      "DATA-SHAPE:  (100, 3)\n",
      "Feature 0 min_error 0.1 min_feature 0\n",
      "Feature 1 min_error 0.1 min_feature 0\n",
      "ERROR:  10.0 % \n",
      "FEATURE:  0\n",
      "VALUE:  0.1747051272298752 \n",
      "LESS THAN LABELLED 0:  True\n",
      "Feature 0 min_error 14 min_feature 0\n",
      "Feature 1 min_error 14 min_feature 0\n",
      "ERROR:  14  points \n",
      "FEATURE:  0\n",
      "VALUE:  0.1747051272298752 \n",
      "LESS THAN LABELLED 0:  True\n"
     ]
    },
    {
     "data": {
      "text/plain": [
       "((0.1, 0, 0.1747051272298752, True), (14, 0, 0.1747051272298752, True))"
      ]
     },
     "execution_count": 332,
     "metadata": {},
     "output_type": "execute_result"
    }
   ],
   "source": [
    "## Generating Random Data\n",
    "\n",
    "def generate_2d_data(n=100, mu = [0,0], cov = np.identity(2), label=0):\n",
    "    s = np.random.multivariate_normal(mu, cov, n)\n",
    "    label_arr = []\n",
    "    i=0\n",
    "    while i<n:\n",
    "        label_arr.append(label)\n",
    "        i = i+1\n",
    "    label_arr = np.asarray(label_arr).reshape(-1,1)\n",
    "    x = np.concatenate((s,label_arr),axis=1)\n",
    "    return pd.DataFrame(x)\n",
    "class1 = generate_2d_data(n=50,label=0)\n",
    "class2 = generate_2d_data(n=50,mu=[2,0],label=1)\n",
    "data = pd.DataFrame(np.concatenate((class1,class2),axis=0))\n",
    "data = data.sample(frac=1) #Shuffling rows\n",
    "print(\"DATA-SHAPE: \",data.shape)\n",
    "\n",
    "\n",
    "decision = calculate_decision(data,debug=True)\n",
    "decision_weighted = calculate_decision(data, True,{'0':1,'1':3},True)\n",
    "decision,decision_weighted\n",
    "\n",
    "\n",
    "## OPTDIGITSUBSET DATASET\n",
    "data = []\n",
    "with open(\"optdigitsubset.txt\", \"r\") as ins:\n",
    "    for i,line in enumerate(ins):\n",
    "        line2 = re.sub(r'\\s+', ',', line) \n",
    "        l = line2.split(\",\")\n",
    "        l[-1] = l[-1].strip(\"\\n\")\n",
    "        l = l[:-1]\n",
    "        \n",
    "        if (i < 554):\n",
    "            l.append(0)\n",
    "        else:\n",
    "            l.append(1)\n",
    "        # to_image(l)\n",
    "        if len(l)==64:\n",
    "            l.append(l[-1])\n",
    "        data.append(l)\n",
    "        \n",
    "data = np.array(data)\n",
    "df2 = pd.DataFrame(data)\n",
    "train1 = df2.iloc[:50]\n",
    "train2 = df2.iloc[554:604]\n",
    "train_data = pd.concat([train1,train2])\n",
    "train_data = train_data.sample(frac=1)\n",
    "\n",
    "\n",
    "test1 = df2.iloc[51:554]\n",
    "test2 = df2.iloc[604:]\n",
    "test_data = pd.concat([test1,test2])\n",
    "test_data = test_data.sample(frac=1)\n",
    "\n",
    "opt_decision = calculate_decision(train_data,debug = True)\n",
    "\n",
    "predicted_labels = []\n",
    "actual_labels = test_data[list(test_data)[-1]]\n",
    "for index, row in test_data.iterrows():\n",
    "    if int(row[opt_decision[1]]) <= int(opt_decision[2]):\n",
    "        predicted_labels.append(0)\n",
    "    else:\n",
    "        predicted_labels.append(1)\n",
    "\n",
    "print(\"Size of Test Data Set:\",len(test_data),\"datapoints\")\n",
    "\n",
    "get_error_percent(actual_labels.values,predicted_labels)\n"
   ]
  },
  {
   "cell_type": "markdown",
   "metadata": {},
   "source": [
    "### Plotting data and stump"
   ]
  },
  {
   "cell_type": "code",
   "execution_count": 316,
   "metadata": {},
   "outputs": [
    {
     "data": {
      "image/png": "[encoded data removed]",
      "text/plain": [
       "<matplotlib.figure.Figure at 0x114b73a20>"
      ]
     },
     "metadata": {},
     "output_type": "display_data"
    }
   ],
   "source": [
    "def plot_data_stump(data,decision,title=\"Decision tree stump plot\"):\n",
    "    #Splitting rows based on labels\n",
    "    a = data.loc[data[list(data)[-1]]==0]\n",
    "    b = data.loc[data[list(data)[-1]]==1]\n",
    "\n",
    "    #Scatterplot of the split rows\n",
    "    plt.scatter(a[0],a[1],marker=\"o\",color=\"red\",label=\"class-0\")\n",
    "    plt.scatter(b[0],b[1],marker=\"x\",color=\"green\",label=\"class-1\")\n",
    "    plt.title(title)\n",
    "    # plt.plot(np.ones((100,1))*1.2, np.random.uniform(-4,4,100))\n",
    "    if decision[1] == 0:\n",
    "        plt.plot(np.ones((100,1))*decision[2], np.random.uniform(-4,4,100),color=\"blue\",label=\"Optimal Stump\")\n",
    "    else:\n",
    "        plt.plot(np.random.uniform(-5,5,100),np.ones((100,1))*decision[2],color=\"orange\",label=\"Optimal Stump\")\n",
    "    plt.legend()\n",
    "plot_data_stump(data,decision_weighted)"
   ]
  },
  {
   "cell_type": "markdown",
   "metadata": {},
   "source": [
    "#### Trying to scale a feature"
   ]
  },
  {
   "cell_type": "code",
   "execution_count": 324,
   "metadata": {},
   "outputs": [
    {
     "name": "stdout",
     "output_type": "stream",
     "text": [
      "ERROR:  12.0 % \n",
      "FEATURE:  0\n",
      "VALUE:  9.158977898458328 \n",
      "LESS THAN LABELLED 0:  True\n",
      "(0.12, 0, 9.158977898458328, True)\n"
     ]
    },
    {
     "data": {
      "image/png": "[encoded data removed]",
      "text/plain": [
       "<matplotlib.figure.Figure at 0x10958ed30>"
      ]
     },
     "metadata": {},
     "output_type": "display_data"
    }
   ],
   "source": [
    "data2 = data.copy()\n",
    "data2[0] = data2[0]*10\n",
    "decision2 = calculate_decision(data2)\n",
    "print(decision2)\n",
    "plot_data_stump(data2,decision2,\"Feature-0 scaled by 10\")"
   ]
  },
  {
   "cell_type": "markdown",
   "metadata": {},
   "source": [
    "### OPTDIGIT dataset"
   ]
  },
  {
   "cell_type": "code",
   "execution_count": 366,
   "metadata": {},
   "outputs": [],
   "source": [
    "def to_image(feature_vector, remove_class=False, shape = (8,8)):\n",
    "        if remove_class:\n",
    "            feature_vector2 = feature_vector[:-1]\n",
    "        else:\n",
    "            feature_vector2 = feature_vector\n",
    "        tempbig = []\n",
    "        temp = []\n",
    "        i = 0\n",
    "        j = 0\n",
    "        for item in feature_vector:\n",
    "            temp.append(item)\n",
    "            i = i+1\n",
    "            if i%shape[1]==0:\n",
    "                tempbig.append(temp)\n",
    "                temp = []\n",
    "                j = j+1\n",
    "                if j%shape[0]==0:\n",
    "                    break\n",
    "        tempbig = np.asarray(tempbig,dtype=\"int\")\n",
    "        print(tempbig)\n",
    "        plt.imshow(tempbig,cmap=\"gray\")\n",
    "    \n",
    "data = []\n",
    "with open(\"optdigitsubset.txt\", \"r\") as ins:\n",
    "    for i,line in enumerate(ins):\n",
    "        line2 = re.sub(r'\\s+', ',', line) \n",
    "        l = line2.split(\",\")\n",
    "        l[-1] = l[-1].strip(\"\\n\")\n",
    "        l = l[:-1]\n",
    "        \n",
    "        if (i < 554):\n",
    "            l.append(0)\n",
    "        else:\n",
    "            l.append(1)\n",
    "        # to_image(l)\n",
    "        if len(l)==64:\n",
    "            l.append(l[-1])\n",
    "        data.append(l)\n",
    "        \n",
    "data = np.array(data)"
   ]
  },
  {
   "cell_type": "code",
   "execution_count": 100,
   "metadata": {
    "scrolled": true
   },
   "outputs": [
    {
     "data": {
      "text/plain": [
       "(1125, 65)"
      ]
     },
     "execution_count": 100,
     "metadata": {},
     "output_type": "execute_result"
    }
   ],
   "source": [
    "data.shape"
   ]
  },
  {
   "cell_type": "markdown",
   "metadata": {},
   "source": [
    "### Preparing Train/Test split"
   ]
  },
  {
   "cell_type": "code",
   "execution_count": 367,
   "metadata": {},
   "outputs": [],
   "source": [
    "df2 = pd.DataFrame(data)\n",
    "train1 = df2.iloc[:50]\n",
    "train2 = df2.iloc[554:604]\n",
    "train_data = pd.concat([train1,train2])\n",
    "train_data = train_data.sample(frac=1)\n",
    "\n",
    "\n",
    "test1 = df2.iloc[51:554]\n",
    "test2 = df2.iloc[604:]\n",
    "test_data = pd.concat([test1,test2])\n",
    "test_data = test_data.sample(frac=1)"
   ]
  },
  {
   "cell_type": "code",
   "execution_count": 123,
   "metadata": {},
   "outputs": [
    {
     "name": "stdout",
     "output_type": "stream",
     "text": [
      "Feature 0 min_error 2 min_feature 0\n",
      "Feature 1 min_error 0.5 min_feature 0\n",
      "Feature 2 min_error 0.47 min_feature 1\n",
      "Feature 3 min_error 0.2 min_feature 2\n",
      "Feature 4 min_error 0.2 min_feature 2\n",
      "Feature 5 min_error 0.2 min_feature 2\n",
      "Feature 6 min_error 0.2 min_feature 2\n",
      "Feature 7 min_error 0.2 min_feature 2\n",
      "Feature 8 min_error 0.2 min_feature 2\n",
      "Feature 9 min_error 0.2 min_feature 2\n",
      "Feature 10 min_error 0.2 min_feature 2\n",
      "Feature 11 min_error 0.11 min_feature 10\n",
      "Feature 12 min_error 0.11 min_feature 10\n",
      "Feature 13 min_error 0.11 min_feature 10\n",
      "Feature 14 min_error 0.11 min_feature 10\n",
      "Feature 15 min_error 0.11 min_feature 10\n",
      "Feature 16 min_error 0.11 min_feature 10\n",
      "Feature 17 min_error 0.11 min_feature 10\n",
      "Feature 18 min_error 0.11 min_feature 10\n",
      "Feature 19 min_error 0.11 min_feature 10\n",
      "Feature 20 min_error 0.08 min_feature 19\n",
      "Feature 21 min_error 0.04 min_feature 20\n",
      "Feature 22 min_error 0.04 min_feature 20\n",
      "Feature 23 min_error 0.04 min_feature 20\n",
      "Feature 24 min_error 0.04 min_feature 20\n",
      "Feature 25 min_error 0.04 min_feature 20\n",
      "Feature 26 min_error 0.04 min_feature 20\n",
      "Feature 27 min_error 0.04 min_feature 20\n",
      "Feature 28 min_error 0.04 min_feature 20\n",
      "Feature 29 min_error 0.03 min_feature 28\n",
      "Feature 30 min_error 0.03 min_feature 28\n",
      "Feature 31 min_error 0.03 min_feature 28\n",
      "Feature 32 min_error 0.03 min_feature 28\n",
      "Feature 33 min_error 0.03 min_feature 28\n",
      "Feature 34 min_error 0.03 min_feature 28\n",
      "Feature 35 min_error 0.03 min_feature 28\n",
      "Feature 36 min_error 0.03 min_feature 28\n",
      "Feature 37 min_error 0.01 min_feature 36\n",
      "Feature 38 min_error 0.01 min_feature 36\n",
      "Feature 39 min_error 0.01 min_feature 36\n",
      "Feature 40 min_error 0.01 min_feature 36\n",
      "Feature 41 min_error 0.01 min_feature 36\n",
      "Feature 42 min_error 0.01 min_feature 36\n",
      "Feature 43 min_error 0.01 min_feature 36\n",
      "Feature 44 min_error 0.01 min_feature 36\n",
      "Feature 45 min_error 0.01 min_feature 36\n",
      "Feature 46 min_error 0.01 min_feature 36\n",
      "Feature 47 min_error 0.01 min_feature 36\n",
      "Feature 48 min_error 0.01 min_feature 36\n",
      "Feature 49 min_error 0.01 min_feature 36\n",
      "Feature 50 min_error 0.01 min_feature 36\n",
      "Feature 51 min_error 0.01 min_feature 36\n",
      "Feature 52 min_error 0.01 min_feature 36\n",
      "Feature 53 min_error 0.01 min_feature 36\n",
      "Feature 54 min_error 0.01 min_feature 36\n",
      "Feature 55 min_error 0.01 min_feature 36\n",
      "Feature 56 min_error 0.01 min_feature 36\n",
      "Feature 57 min_error 0.01 min_feature 36\n",
      "Feature 58 min_error 0.01 min_feature 36\n",
      "Feature 59 min_error 0.01 min_feature 36\n",
      "Feature 60 min_error 0.01 min_feature 36\n",
      "Feature 61 min_error 0.01 min_feature 36\n",
      "Feature 62 min_error 0.01 min_feature 36\n",
      "Feature 63 min_error 0.01 min_feature 36\n",
      "ERROR:  1.0 % \n",
      "FEATURE:  36\n",
      "VALUE:  16 \n",
      "LESS THAN LABELLED 0:  True\n"
     ]
    }
   ],
   "source": [
    "opt_decision = calculate_decision(train_data,debug = True)"
   ]
  },
  {
   "cell_type": "markdown",
   "metadata": {},
   "source": [
    "#### For feature 36 with values <= 0, set label as 0\n",
    "Trying this out on the test set"
   ]
  },
  {
   "cell_type": "code",
   "execution_count": 148,
   "metadata": {},
   "outputs": [
    {
     "name": "stdout",
     "output_type": "stream",
     "text": [
      "Size of Test Data Set: 1024 datapoints\n",
      "Error : 1.7578125 %\n"
     ]
    },
    {
     "data": {
      "text/plain": [
       "1.7578125"
      ]
     },
     "execution_count": 148,
     "metadata": {},
     "output_type": "execute_result"
    }
   ],
   "source": [
    "predicted_labels = []\n",
    "actual_labels = test_data[list(test_data)[-1]]\n",
    "for index, row in test_data.iterrows():\n",
    "    if int(row[opt_decision[1]]) <= int(opt_decision[2]):\n",
    "        predicted_labels.append(0)\n",
    "    else:\n",
    "        predicted_labels.append(1)\n",
    "\n",
    "print(\"Size of Test Data Set:\",len(test_data),\"datapoints\")\n",
    "\n",
    "get_error_percent(actual_labels.values,predicted_labels)"
   ]
  },
  {
   "cell_type": "code",
   "execution_count": 176,
   "metadata": {},
   "outputs": [
    {
     "name": "stdout",
     "output_type": "stream",
     "text": [
      "[[  0   0  32 208 208  32   0   0]\n",
      " [  0   0 144 255  96 208   0   0]\n",
      " [  0  16 224  16   0 144  64   0]\n",
      " [  0  64 144   0   0  96 112   0]\n",
      " [  0 128 128   0   0  64 128   0]\n",
      " [  0  64 144   0   0  64 128   0]\n",
      " [  0   0 240 128  64 192 112   0]\n",
      " [  0   0  32 160 255 240  32   0]]\n"
     ]
    },
    {
     "data": {
      "image/png": "[encoded data removed]",
      "text/plain": [
       "<matplotlib.figure.Figure at 0x114b1e5f8>"
      ]
     },
     "metadata": {},
     "output_type": "display_data"
    }
   ],
   "source": [
    "z = data[200]\n",
    "\n",
    "to_image(z,remove_class=True)"
   ]
  },
  {
   "cell_type": "markdown",
   "metadata": {},
   "source": [
    "### Ada Boost Algorithm"
   ]
  },
  {
   "cell_type": "code",
   "execution_count": 317,
   "metadata": {},
   "outputs": [
    {
     "name": "stderr",
     "output_type": "stream",
     "text": [
      "/Users/dhruv/virtualenvironment3/lib/python3.6/site-packages/sklearn/cross_validation.py:44: DeprecationWarning: This module was deprecated in version 0.18 in favor of the model_selection module into which all the refactored classes and functions are moved. Also note that the interface of the new CV iterators are different from that of this module. This module will be removed in 0.20.\n",
      "  \"This module will be removed in 0.20.\", DeprecationWarning)\n"
     ]
    }
   ],
   "source": [
    "from sklearn.tree import DecisionTreeClassifier\n",
    "from sklearn.cross_validation import train_test_split\n",
    "from sklearn.datasets import make_hastie_10_2"
   ]
  },
  {
   "cell_type": "code",
   "execution_count": 364,
   "metadata": {},
   "outputs": [],
   "source": [
    "def get_error_rate(pred, Y):\n",
    "    return sum(pred != Y) / float(len(Y))\n",
    "\n",
    "\"\"\" HELPER FUNCTION: PRINT ERROR RATE =======================================\"\"\"\n",
    "def print_error_rate(err):\n",
    "    print('Error rate: Training: %.4f - Test: %.4f' % err)\n",
    "\n",
    "\"\"\" HELPER FUNCTION: GENERIC CLASSIFIER =====================================\"\"\"\n",
    "def generic_clf(Y_train, X_train, Y_test, X_test, clf):\n",
    "    clf.fit(X_train,Y_train)\n",
    "    pred_train = clf.predict(X_train)\n",
    "    pred_test = clf.predict(X_test)\n",
    "    return get_error_rate(pred_train, Y_train), \\\n",
    "           get_error_rate(pred_test, Y_test)\n",
    "    \n",
    "\"\"\" ADABOOST IMPLEMENTATION =================================================\"\"\"\n",
    "def adaboost_clf(Y_train, X_train, Y_test, X_test, M, clf):\n",
    "    n_train, n_test = len(X_train), len(X_test)\n",
    "    # Initialize weights\n",
    "    w = np.ones(n_train) / n_train\n",
    "    pred_train, pred_test = [np.zeros(n_train), np.zeros(n_test)]\n",
    "    \n",
    "    for i in range(M):\n",
    "        # Fit a classifier with the specific weights\n",
    "        clf.fit(X_train, Y_train, sample_weight = w)\n",
    "        pred_train_i = clf.predict(X_train)\n",
    "        pred_test_i = clf.predict(X_test)\n",
    "        # Indicator function\n",
    "        miss = [int(x) for x in (pred_train_i != Y_train)]\n",
    "        # Equivalent with 1/-1 to update weights\n",
    "        miss2 = [x if x==1 else -1 for x in miss]\n",
    "        # Error\n",
    "        err_m = np.dot(w,miss) / sum(w)\n",
    "        # Alpha\n",
    "        alpha_m = 0.5 * np.log( (1 - err_m) / float(err_m))\n",
    "        # New weights\n",
    "        w = np.multiply(w, np.exp([float(x) * alpha_m for x in miss2]))\n",
    "        # Add to prediction\n",
    "        pred_train = [sum(x) for x in zip(pred_train, \n",
    "                                          [x * alpha_m for x in pred_train_i])]\n",
    "        pred_test = [sum(x) for x in zip(pred_test, \n",
    "                                         [x * alpha_m for x in pred_test_i])]\n",
    "    \n",
    "    pred_train, pred_test = np.sign(pred_train), np.sign(pred_test)\n",
    "    # Return error rate in train and test set\n",
    "    return get_error_rate(pred_train, Y_train), \\\n",
    "           get_error_rate(pred_test, Y_test)\n",
    "\n",
    "\"\"\" PLOT FUNCTION ===========================================================\"\"\"\n",
    "def plot_error_rate(er_train, er_test):\n",
    "    df_error = pd.DataFrame([er_train, er_test]).T\n",
    "    df_error.columns = ['Training', 'Test']\n",
    "    plot1 = df_error.plot(linewidth = 3, figsize = (8,6),\n",
    "            color = ['red', 'darkblue'], grid = False)\n",
    "    plot1.set_xlabel('Iterations', fontsize = 12)\n",
    "    #plot1.set_xticklabels(range(0,450,50))\n",
    "    plot1.set_ylabel('Error rate', fontsize = 12)\n",
    "    plot1.set_title('Error rate vs number of iterations', fontsize = 16)\n",
    "    plt.axhline(y=er_test[0], linewidth=1, color = 'green', ls = 'dashed')\n",
    "\n",
    "    \n",
    "# Read data\n",
    "\n",
    "all_columns = list(df2)\n",
    "last_column = all_columns[-1]\n",
    "features = all_columns[:-1]\n",
    "\n",
    "# x, y = make_hastie_10_2()\n",
    "# df = pd.DataFrame(x)\n",
    "# df['Y'] = y\n",
    "df = df2[features]\n",
    "df['Y'] = df2[last_column]\n",
    "df.astype('int')\n",
    "\n",
    "\n",
    "# Split into training and test set\n",
    "train, test = train_test_split(df, test_size = 0.2)\n",
    "\n",
    "X_train, Y_train = train.ix[:,:-1], train.ix[:,-1]\n",
    "X_test, Y_test = test.ix[:,:-1], test.ix[:,-1]\n",
    "er_train, er_test = [er_tree[0]], [er_tree[1]]\n",
    "x_range = range(1, 20, 1)\n",
    "for i in x_range:    \n",
    "    er_i = adaboost_clf(Y_train, X_train, Y_test, X_test, i, clf_tree)\n",
    "    er_train.append(er_i[0])\n",
    "    er_test.append(er_i[1])\n",
    "\n",
    "# Compare error vs iterations\n",
    "print(er_train,er_test)\n",
    "plot_error_rate(er_train, er_test)"
   ]
  },
  {
   "cell_type": "code",
   "execution_count": 368,
   "metadata": {},
   "outputs": [
    {
     "ename": "TypeError",
     "evalue": "'numpy.float64' object cannot be interpreted as an integer",
     "output_type": "error",
     "traceback": [
      "\u001b[0;31m---------------------------------------------------------------------------\u001b[0m",
      "\u001b[0;31mTypeError\u001b[0m                                 Traceback (most recent call last)",
      "\u001b[0;32m<ipython-input-368-8286ce042b25>\u001b[0m in \u001b[0;36m<module>\u001b[0;34m()\u001b[0m\n\u001b[1;32m     28\u001b[0m \u001b[0mx_range\u001b[0m \u001b[0;34m=\u001b[0m \u001b[0mrange\u001b[0m\u001b[0;34m(\u001b[0m\u001b[0;36m1\u001b[0m\u001b[0;34m,\u001b[0m \u001b[0;36m20\u001b[0m\u001b[0;34m,\u001b[0m \u001b[0;36m1\u001b[0m\u001b[0;34m)\u001b[0m\u001b[0;34m\u001b[0m\u001b[0m\n\u001b[1;32m     29\u001b[0m \u001b[0;32mfor\u001b[0m \u001b[0mi\u001b[0m \u001b[0;32min\u001b[0m \u001b[0mx_range\u001b[0m\u001b[0;34m:\u001b[0m\u001b[0;34m\u001b[0m\u001b[0m\n\u001b[0;32m---> 30\u001b[0;31m     \u001b[0mer_i\u001b[0m \u001b[0;34m=\u001b[0m \u001b[0madaboost_clf\u001b[0m\u001b[0;34m(\u001b[0m\u001b[0mY_train\u001b[0m\u001b[0;34m,\u001b[0m \u001b[0mX_train\u001b[0m\u001b[0;34m,\u001b[0m \u001b[0mY_test\u001b[0m\u001b[0;34m,\u001b[0m \u001b[0mX_test\u001b[0m\u001b[0;34m,\u001b[0m \u001b[0mi\u001b[0m\u001b[0;34m,\u001b[0m \u001b[0mclf_tree\u001b[0m\u001b[0;34m)\u001b[0m\u001b[0;34m\u001b[0m\u001b[0m\n\u001b[0m\u001b[1;32m     31\u001b[0m     \u001b[0mer_train\u001b[0m\u001b[0;34m.\u001b[0m\u001b[0mappend\u001b[0m\u001b[0;34m(\u001b[0m\u001b[0mer_i\u001b[0m\u001b[0;34m[\u001b[0m\u001b[0;36m0\u001b[0m\u001b[0;34m]\u001b[0m\u001b[0;34m)\u001b[0m\u001b[0;34m\u001b[0m\u001b[0m\n\u001b[1;32m     32\u001b[0m     \u001b[0mer_test\u001b[0m\u001b[0;34m.\u001b[0m\u001b[0mappend\u001b[0m\u001b[0;34m(\u001b[0m\u001b[0mer_i\u001b[0m\u001b[0;34m[\u001b[0m\u001b[0;36m1\u001b[0m\u001b[0;34m]\u001b[0m\u001b[0;34m)\u001b[0m\u001b[0;34m\u001b[0m\u001b[0m\n",
      "\u001b[0;32m<ipython-input-364-8be241e24d63>\u001b[0m in \u001b[0;36madaboost_clf\u001b[0;34m(Y_train, X_train, Y_test, X_test, M, clf)\u001b[0m\n\u001b[1;32m     37\u001b[0m         \u001b[0;31m# Add to prediction\u001b[0m\u001b[0;34m\u001b[0m\u001b[0;34m\u001b[0m\u001b[0m\n\u001b[1;32m     38\u001b[0m         pred_train = [sum(x) for x in zip(pred_train, \n\u001b[0;32m---> 39\u001b[0;31m                                           [x * alpha_m for x in pred_train_i])]\n\u001b[0m\u001b[1;32m     40\u001b[0m         pred_test = [sum(x) for x in zip(pred_test, \n\u001b[1;32m     41\u001b[0m                                          [x * alpha_m for x in pred_test_i])]\n",
      "\u001b[0;32m<ipython-input-364-8be241e24d63>\u001b[0m in \u001b[0;36m<listcomp>\u001b[0;34m(.0)\u001b[0m\n\u001b[1;32m     37\u001b[0m         \u001b[0;31m# Add to prediction\u001b[0m\u001b[0;34m\u001b[0m\u001b[0;34m\u001b[0m\u001b[0m\n\u001b[1;32m     38\u001b[0m         pred_train = [sum(x) for x in zip(pred_train, \n\u001b[0;32m---> 39\u001b[0;31m                                           [x * alpha_m for x in pred_train_i])]\n\u001b[0m\u001b[1;32m     40\u001b[0m         pred_test = [sum(x) for x in zip(pred_test, \n\u001b[1;32m     41\u001b[0m                                          [x * alpha_m for x in pred_test_i])]\n",
      "\u001b[0;31mTypeError\u001b[0m: 'numpy.float64' object cannot be interpreted as an integer"
     ]
    }
   ],
   "source": [
    "# Read data\n",
    "\n",
    "all_columns = list(df2)\n",
    "last_column = all_columns[-1]\n",
    "features = all_columns[:-1]\n",
    "\n",
    "# x, y = make_hastie_10_2()\n",
    "# df = pd.DataFrame(x)\n",
    "# df['Y'] = y\n",
    "df = df2[features]\n",
    "df['Y'] = df2[last_column]\n",
    "df.astype('int')\n",
    "\n",
    "\n",
    "# Split into training and test set\n",
    "train, test = train_test_split(df, test_size = 0.2)\n",
    "\n",
    "X_train, Y_train = train.ix[:,:-1], train.ix[:,-1]\n",
    "X_test, Y_test = test.ix[:,:-1], test.ix[:,-1]\n",
    "\n",
    "# Fit a simple decision tree first\n",
    "clf_tree = DecisionTreeClassifier(max_depth = 1, random_state = 1)\n",
    "er_tree = generic_clf(Y_train, X_train, Y_test, X_test, clf_tree)\n",
    "\n",
    "# Fit Adaboost classifier using a decision tree as base estimator\n",
    "# Test with different number of iterations\n",
    "er_train, er_test = [er_tree[0]], [er_tree[1]]\n",
    "x_range = range(1, 20, 1)\n",
    "for i in x_range:    \n",
    "    er_i = adaboost_clf(Y_train, X_train, Y_test, X_test, i, clf_tree)\n",
    "    er_train.append(er_i[0])\n",
    "    er_test.append(er_i[1])\n",
    "\n",
    "# Compare error vs iterations\n",
    "print(er_train,er_test)\n",
    "plot_error_rate(er_train, er_test)"
   ]
  },
  {
   "cell_type": "code",
   "execution_count": 363,
   "metadata": {},
   "outputs": [
    {
     "data": {
      "image/png": "[encoded data removed]",
      "text/plain": [
       "<matplotlib.figure.Figure at 0x11a172358>"
      ]
     },
     "metadata": {},
     "output_type": "display_data"
    }
   ],
   "source": [
    "plot_error_rate(er_train, er_test)"
   ]
  },
  {
   "cell_type": "code",
   "execution_count": 384,
   "metadata": {},
   "outputs": [
    {
     "name": "stdout",
     "output_type": "stream",
     "text": [
      "[0.01154007 0.01137282 0.01123345 0.01114983 0.0110662  0.0110662\n",
      " 0.0110662  0.01112195 0.01109408 0.01103833 0.01109408 0.01109408\n",
      " 0.01114983 0.01114983 0.01114983 0.0111777  0.0111777  0.0112892\n",
      " 0.01134495 0.01137282 0.0114007  0.0114007 ]\n"
     ]
    },
    {
     "data": {
      "text/plain": [
       "[<matplotlib.lines.Line2D at 0x11b19c9b0>]"
      ]
     },
     "execution_count": 384,
     "metadata": {},
     "output_type": "execute_result"
    },
    {
     "data": {
      "image/png": "[encoded data removed]",
      "text/plain": [
       "<matplotlib.figure.Figure at 0x11b0ba390>"
      ]
     },
     "metadata": {},
     "output_type": "display_data"
    }
   ],
   "source": [
    "x = [0.0175609756097561,0.0175609756097561,0.013658536585365854,0.013658536585365854,0.00975609756097561,0.010731707317073172,0.00975609756097561,0.013658536585365854,0.012682926829268294,0.010731707317073172,0.011707317073170732,0.010731707317073172,0.011707317073170732,0.011707317073170732,0.010731707317073172,0.010731707317073172,0.007804878048780488,0.00975609756097561,0.010731707317073172,0.010731707317073172,0.011707317073170732,0.010731707317073172,0.011707317073170732,0.011707317073170732,0.012682926829268294,0.012682926829268294,0.012682926829268294,0.010731707317073172,0.010731707317073172,0.010731707317073172,0.010731707317073172,0.010731707317073172,0.010731707317073172,0.00878048780487805,0.010731707317073172,0.011707317073170732,0.012682926829268294,0.010731707317073172,0.010731707317073172,0.00975609756097561,0.010731707317073172,0.011707317073170732,0.012682926829268294,0.010731707317073172,0.012682926829268294,0.011707317073170732,0.012682926829268294,0.011707317073170732,0.011707317073170732,0.011707317073170732,0.010731707317073172,0.011707317073170732,0.011707317073170732,0.011707317073170732,0.011707317073170732,0.011707317073170732]\n",
    "y = np.ma.average(x)\n",
    "def moving_average(a, n=3) :\n",
    "    ret = np.cumsum(a, dtype=float)\n",
    "    ret[n:] = ret[n:] - ret[:-n]\n",
    "    return ret[n - 1:] / n\n",
    "y = moving_average(x,n=35)\n",
    "print(y)\n",
    "plt.xlabel(\"Number of Weak Classifiers used with AdaBoost\")\n",
    "plt.ylabel(\"Error Rate\")\n",
    "plt.title(\"Ada Boost on gendats-like Dataset\")\n",
    "plt.plot(y)"
   ]
  },
  {
   "cell_type": "code",
   "execution_count": null,
   "metadata": {},
   "outputs": [],
   "source": []
  }
 ],
 "metadata": {
  "kernelspec": {
   "display_name": "virtualenvironment3",
   "language": "python",
   "name": "virtualenvironment3"
  },
  "language_info": {
   "codemirror_mode": {
    "name": "ipython",
    "version": 3
   },
   "file_extension": ".py",
   "mimetype": "text/x-python",
   "name": "python",
   "nbconvert_exporter": "python",
   "pygments_lexer": "ipython3",
   "version": "3.6.3"
  }
 },
 "nbformat": 4,
 "nbformat_minor": 2
}
