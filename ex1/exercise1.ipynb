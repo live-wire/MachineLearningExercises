{
 "cells": [
  {
   "cell_type": "markdown",
   "metadata": {},
   "source": [
    "### IN4320 Machine Learning Assignment 1\n",
    "#### Regularization and Sparsity\n",
    "<hr>\n",
    "**DHRUV BATHEJA**<br>\n",
    "**4716523**<br>\n",
    "**d.batheja@student.tudelft.nl**<br>\n",
    "\n",
    "![Question](question.png \"Question\")\n",
    "![Question](one.png \"1\")"
   ]
  },
  {
   "cell_type": "code",
   "execution_count": 41,
   "metadata": {
    "scrolled": true
   },
   "outputs": [
    {
     "data": {
      "image/png": "[encoded data removed]",
      "text/plain": [
       "<matplotlib.figure.Figure at 0x106231c18>"
      ]
     },
     "metadata": {},
     "output_type": "display_data"
    }
   ],
   "source": [
    "%matplotlib inline\n",
    "from math import pi,exp,sqrt\n",
    "import numpy as np\n",
    "import matplotlib as mpl\n",
    "import matplotlib.pyplot as plt\n",
    "\n",
    "# PART a)\n",
    "# %% 1(a) Draw the lost function\n",
    "\n",
    "J_vals=[]\n",
    "\n",
    "rplus = np.linspace(-3,3,200)\n",
    "lambdaa = np.array([0,1,2,3])\n",
    "fig, axes = plt.subplots(2, 2)\n",
    "\n",
    "fig.subplots_adjust(top=0.92, left=0.07, right=0.97,\n",
    "                    hspace=0.3, wspace=0.3)\n",
    "axes_flat = axes.flatten()\n",
    "for i,val in enumerate(lambdaa):\n",
    "    temp = []\n",
    "    for j,val2 in enumerate(rplus):\n",
    "        cost = (-1 - rplus[j])**2 + (1 - rplus[j])**2 + lambdaa[i]*np.linalg.norm((1-rplus[j]))\n",
    "        temp.append(cost)\n",
    "    J_vals.append(temp)\n",
    "    \n",
    "    axes_flat[i].plot(rplus,J_vals[i])\n",
    "    axes_flat[i].set_title(\"lambda = \"+str(val))\n",
    "#     plt.pause(1)\n",
    "plt.title(\"1 a)\")\n",
    "plt.show()\n",
    "    "
   ]
  },
  {
   "cell_type": "markdown",
   "metadata": {},
   "source": [
    "**b)** \n",
    "Loss function in terms of rplus values is in the plots above.\n",
    "for all values of lambda:<br>\n",
    "Loss = 1/2\\*((-1 - r)^2 + (1-r)^2) + lambda \\* |1 - r| <br>\n",
    "Loss = 1/2\\*(1 + r^2 + 2r + 1 + r^2 -2r) + lambda \\* |1-r| <br>\n",
    "Loss = 1/2\\*(2 + 2r^2) + lambda \\* |1 - r| <br>\n",
    "Loss = 1 + r^2 + lambda \\* |1 - r|\n",
    "\n",
    "- Lambda = 0 <br>\n",
    "derivative_loss = 2\\*r <br>\n",
    "To find the(minimum) point with slope = 0, setting derivative to 0<br>\n",
    "derivative_loss = 0 = 2\\*r <br>\n",
    "r = 0 <br>\n",
    "Loss = 1 <br>\n",
    "<hr>\n",
    "- Lambda = 1 <br>\n",
    "derivative_loss = 2\\*r - 1  <br>\n",
    "To find the(minimum) point with slope = 0, setting derivative to 0 <br>\n",
    "derivative_loss = 0 = 2\\*r -1 <br>\n",
    "r = 1/2 <br>\n",
    "Loss = 1 + 1/4 + 1/2 = 1.75 <br>\n",
    "<hr>\n",
    "- Lambda = 2 <br>\n",
    "derivative_loss = 2\\*r - 2 <br> \n",
    "To find the(minimum) point with slope = 0, setting derivative to 0<br>\n",
    "derivative_loss = 0 = 2\\*r -2 <br>\n",
    "r = 1 <br>\n",
    "Loss = 1 + 1  = 2 <br>\n",
    "<hr>\n",
    "- Lambda = 3 <br>\n",
    "derivative_loss = 2\\*r - 3 **if r < 1** <br>\n",
    "To find the(minimum) point with slope = 0, setting derivative to 0<br>\n",
    "derivative_loss = 0 = 2\\*r - 3 <br>\n",
    "r = 3/2! But we already have the constraint r < 1 for this case so NO SOLUTION!<br>\n",
    "derivative_loss = 2\\*r + 3 **if r > 1** <br>\n",
    "To find the(minimum) point with slope = 0, setting derivative to 0<br>\n",
    "derivative_loss = 0 = 2\\*r + 3 <br> \n",
    "r = -3/2! But we alrady have the constraint r>1 for this case, so NO SOLUTION!<hr>\n"
   ]
  },
  {
   "cell_type": "markdown",
   "metadata": {},
   "source": [
    "![Question](two.png \"2\")"
   ]
  },
  {
   "cell_type": "markdown",
   "metadata": {},
   "source": [
    "**Ans-2** <br>The regulizer adds a penalty to distance between the representators r+ and r-. As the regulization term i.e. Lambda keeps increasing, the loss function keeps becoming pointier and hence making it easier to converge. I believe, eventually if lambda keeps increasing, r+ will be equal to r-. <hr>"
   ]
  },
  {
   "cell_type": "markdown",
   "metadata": {},
   "source": [
    "![Question](three.png \"3\")"
   ]
  },
  {
   "cell_type": "markdown",
   "metadata": {},
   "source": [
    "**3 a)**\n",
    "The contours consist of the concatenation of two quadratic curves (one for each representator). These contours typically occur in the form of ellipses. When the regularization term is 0, they become proper ellipses. <br>\n",
    "\n",
    "**3 b)**\n",
    "Both representators have to be determined.<br>\n",
    "Loss = 1/2\\*((-1 - r+)^2 + (1 - r+)^2 +  (3 - r-)^2 + (-1 - r-)^2) + lambda \\* |r-  -  r+| <br>\n",
    "Now, since lambda tends to infinity, |r-  -  r+| tends to zero and hence, r- = r+ = r <br>\n",
    "The equation now becomes: <br>\n",
    "Loss = 1/2\\*((-1 - r)^2 + (1 - r)^2 + (3 - r)^2 + (-1 - r)^2) + lambda \\* |r - r| <br>\n",
    "Loss = 1/2\\*(1 + r^2 + 2r + 1 + r^2 -2r + 9 + r^2 -6r + 1 + r^2 + 2r) = 1/2\\*(12 + 4r^2 -4r) = 6 + 2r^2 -2r<br>\n",
    "derivative_loss = 4r - 2 <br>\n",
    "To find the(minimum) point with slope = 0, setting derivative to 0 <br>\n",
    "derivative_loss = 4r - 2 = 0 <br>\n",
    "r = 1/2 <br>\n",
    "**r+ = r- = 1/2** <br>\n",
    "*Loss is minimum when r+ and r- = 1/2.* <br>\n",
    "Loss = 6 + 2* 1/4 -2/2 = 6 + 1/2 - 1 = 5.5. <hr>\n",
    "\n"
   ]
  },
  {
   "cell_type": "markdown",
   "metadata": {},
   "source": [
    "![Question](four.png \"4\")"
   ]
  },
  {
   "cell_type": "markdown",
   "metadata": {},
   "source": [
    "**4 a)** I tried to use Gradient Descent for this problem. Since we already have the loss function available, the gradient descent approach should help reach a minimum value (for the Loss), considering both r_zero and r_one. Ideally when you reach the minimum, the loss stops decreasing even after more iterations. The code is provided below. The loss function doesn't seem to show great results (doesn't decrease in summed value) even after applying gradient descent, but visually, the random starting points for r_zero and r_one seem to converge to decent representative vectors.\n",
    "\n",
    "**b)** \n",
    "Starting random vectors on the left in the image.\n",
    "Vectors after optimization on the right in the image.\n",
    "![Question](result.png \"res\")\n",
    "\n",
    "**c)**\n",
    "This plot shows the training and testing errors using just one data point(row) along the mentioned lambda values of [0, 0.1, 1, 10, 100, 1000]. Notice the dip in the errors at lambda = 100.\n",
    "![Question](plot.png \"plot\")"
   ]
  }
 ],
 "metadata": {
  "kernelspec": {
   "display_name": "virtualenvironment3",
   "language": "python",
   "name": "virtualenvironment3"
  },
  "language_info": {
   "codemirror_mode": {
    "name": "ipython",
    "version": 3
   },
   "file_extension": ".py",
   "mimetype": "text/x-python",
   "name": "python",
   "nbconvert_exporter": "python",
   "pygments_lexer": "ipython3",
   "version": "3.6.3"
  }
 },
 "nbformat": 4,
 "nbformat_minor": 2
}
